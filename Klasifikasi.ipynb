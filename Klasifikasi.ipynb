{
  "nbformat": 4,
  "nbformat_minor": 5,
  "metadata": {
    "colab": {
      "name": "Tubes_Klasifikasi_ML.ipynb",
      "provenance": [],
      "collapsed_sections": []
    },
    "kernelspec": {
      "display_name": "Python 3",
      "language": "python",
      "name": "python3"
    },
    "language_info": {
      "codemirror_mode": {
        "name": "ipython",
        "version": 3
      },
      "file_extension": ".py",
      "mimetype": "text/x-python",
      "name": "python",
      "nbconvert_exporter": "python",
      "pygments_lexer": "ipython3",
      "version": "3.8.8"
    }
  },
  "cells": [
    {
      "cell_type": "markdown",
      "metadata": {
        "id": "behind-gnome"
      },
      "source": [
        "# Tugas Besar Pembelajaran Mesin Tahap 2"
      ],
      "id": "behind-gnome"
    },
    {
      "cell_type": "markdown",
      "metadata": {
        "id": "under-michael"
      },
      "source": [
        "Muhammad Rizky Irsyad - 1301180347 - IF4208\n",
        "\n",
        "Hasbi Dawami - 1301180320 - IF4208"
      ],
      "id": "under-michael"
    },
    {
      "cell_type": "markdown",
      "metadata": {
        "id": "immune-spyware"
      },
      "source": [
        "## 1. Evaluasi Masalah\n",
        "Berdasarkan dataset yang telah diberikan, Goals atau tujuan akhir dari tugas ini adalah untuk memprediksi label \"Tertarik\""
      ],
      "id": "immune-spyware"
    },
    {
      "cell_type": "markdown",
      "metadata": {
        "id": "ignored-latino"
      },
      "source": [
        "## 2. Data Preprocessing\n",
        "Langkah pertama yang dapat kita lakukan adalah import library-library yang dibutuhkan untuk mengolah data dan fungsi yang membantu untuk membangun model"
      ],
      "id": "ignored-latino"
    },
    {
      "cell_type": "code",
      "metadata": {
        "id": "contrary-teacher"
      },
      "source": [
        "import numpy as np\n",
        "import pandas as pd\n",
        "import statistics\n",
        "from sklearn.preprocessing import MinMaxScaler\n",
        "from sklearn.linear_model import LogisticRegression\n",
        "from sklearn.model_selection import cross_val_score\n",
        "from sklearn.metrics import classification_report"
      ],
      "id": "contrary-teacher",
      "execution_count": 58,
      "outputs": []
    },
    {
      "cell_type": "markdown",
      "metadata": {
        "id": "separated-issue"
      },
      "source": [
        "Selanjutnya kita mulai untuk membersihkan data. Berhubung karena disini dataset sudah di split antara data train dan data test maka kita akan melakukan dua kali proses pembersihan."
      ],
      "id": "separated-issue"
    },
    {
      "cell_type": "markdown",
      "metadata": {
        "id": "pRIsqRBSZvi1"
      },
      "source": [
        "Tahapan yang akan dilakukan terhadap data kurang lebih seperti tahap sebelumnya, yaitu:\n",
        "\n",
        "1. Drop Missing Value\n",
        "2. Encoding Categorical Data\n",
        "3. Normalisasi (MinMax Scaler)"
      ],
      "id": "pRIsqRBSZvi1"
    },
    {
      "cell_type": "code",
      "metadata": {
        "id": "ap4HngoN97Ry"
      },
      "source": [
        "df = pd.read_csv('kendaraan_train.csv')\n",
        "df2 = pd.read_csv('kendaraan_test.csv')"
      ],
      "id": "ap4HngoN97Ry",
      "execution_count": 59,
      "outputs": []
    },
    {
      "cell_type": "code",
      "metadata": {
        "id": "zW2XqfVm9weV",
        "colab": {
          "base_uri": "https://localhost:8080/",
          "height": 419
        },
        "outputId": "badfa41c-8f7d-43f5-a0ee-d1201f467aeb"
      },
      "source": [
        "df"
      ],
      "id": "zW2XqfVm9weV",
      "execution_count": 60,
      "outputs": [
        {
          "output_type": "execute_result",
          "data": {
            "text/html": [
              "<div>\n",
              "<style scoped>\n",
              "    .dataframe tbody tr th:only-of-type {\n",
              "        vertical-align: middle;\n",
              "    }\n",
              "\n",
              "    .dataframe tbody tr th {\n",
              "        vertical-align: top;\n",
              "    }\n",
              "\n",
              "    .dataframe thead th {\n",
              "        text-align: right;\n",
              "    }\n",
              "</style>\n",
              "<table border=\"1\" class=\"dataframe\">\n",
              "  <thead>\n",
              "    <tr style=\"text-align: right;\">\n",
              "      <th></th>\n",
              "      <th>id</th>\n",
              "      <th>Jenis_Kelamin</th>\n",
              "      <th>Umur</th>\n",
              "      <th>SIM</th>\n",
              "      <th>Kode_Daerah</th>\n",
              "      <th>Sudah_Asuransi</th>\n",
              "      <th>Umur_Kendaraan</th>\n",
              "      <th>Kendaraan_Rusak</th>\n",
              "      <th>Premi</th>\n",
              "      <th>Kanal_Penjualan</th>\n",
              "      <th>Lama_Berlangganan</th>\n",
              "      <th>Tertarik</th>\n",
              "    </tr>\n",
              "  </thead>\n",
              "  <tbody>\n",
              "    <tr>\n",
              "      <th>0</th>\n",
              "      <td>1</td>\n",
              "      <td>Wanita</td>\n",
              "      <td>30.0</td>\n",
              "      <td>1.0</td>\n",
              "      <td>33.0</td>\n",
              "      <td>1.0</td>\n",
              "      <td>&lt; 1 Tahun</td>\n",
              "      <td>Tidak</td>\n",
              "      <td>28029.0</td>\n",
              "      <td>152.0</td>\n",
              "      <td>97.0</td>\n",
              "      <td>0</td>\n",
              "    </tr>\n",
              "    <tr>\n",
              "      <th>1</th>\n",
              "      <td>2</td>\n",
              "      <td>Pria</td>\n",
              "      <td>48.0</td>\n",
              "      <td>1.0</td>\n",
              "      <td>39.0</td>\n",
              "      <td>0.0</td>\n",
              "      <td>&gt; 2 Tahun</td>\n",
              "      <td>Pernah</td>\n",
              "      <td>25800.0</td>\n",
              "      <td>29.0</td>\n",
              "      <td>158.0</td>\n",
              "      <td>0</td>\n",
              "    </tr>\n",
              "    <tr>\n",
              "      <th>2</th>\n",
              "      <td>3</td>\n",
              "      <td>NaN</td>\n",
              "      <td>21.0</td>\n",
              "      <td>1.0</td>\n",
              "      <td>46.0</td>\n",
              "      <td>1.0</td>\n",
              "      <td>&lt; 1 Tahun</td>\n",
              "      <td>Tidak</td>\n",
              "      <td>32733.0</td>\n",
              "      <td>160.0</td>\n",
              "      <td>119.0</td>\n",
              "      <td>0</td>\n",
              "    </tr>\n",
              "    <tr>\n",
              "      <th>3</th>\n",
              "      <td>4</td>\n",
              "      <td>Wanita</td>\n",
              "      <td>58.0</td>\n",
              "      <td>1.0</td>\n",
              "      <td>48.0</td>\n",
              "      <td>0.0</td>\n",
              "      <td>1-2 Tahun</td>\n",
              "      <td>Tidak</td>\n",
              "      <td>2630.0</td>\n",
              "      <td>124.0</td>\n",
              "      <td>63.0</td>\n",
              "      <td>0</td>\n",
              "    </tr>\n",
              "    <tr>\n",
              "      <th>4</th>\n",
              "      <td>5</td>\n",
              "      <td>Pria</td>\n",
              "      <td>50.0</td>\n",
              "      <td>1.0</td>\n",
              "      <td>35.0</td>\n",
              "      <td>0.0</td>\n",
              "      <td>&gt; 2 Tahun</td>\n",
              "      <td>NaN</td>\n",
              "      <td>34857.0</td>\n",
              "      <td>88.0</td>\n",
              "      <td>194.0</td>\n",
              "      <td>0</td>\n",
              "    </tr>\n",
              "    <tr>\n",
              "      <th>...</th>\n",
              "      <td>...</td>\n",
              "      <td>...</td>\n",
              "      <td>...</td>\n",
              "      <td>...</td>\n",
              "      <td>...</td>\n",
              "      <td>...</td>\n",
              "      <td>...</td>\n",
              "      <td>...</td>\n",
              "      <td>...</td>\n",
              "      <td>...</td>\n",
              "      <td>...</td>\n",
              "      <td>...</td>\n",
              "    </tr>\n",
              "    <tr>\n",
              "      <th>285826</th>\n",
              "      <td>285827</td>\n",
              "      <td>Wanita</td>\n",
              "      <td>23.0</td>\n",
              "      <td>1.0</td>\n",
              "      <td>4.0</td>\n",
              "      <td>1.0</td>\n",
              "      <td>&lt; 1 Tahun</td>\n",
              "      <td>Tidak</td>\n",
              "      <td>25988.0</td>\n",
              "      <td>152.0</td>\n",
              "      <td>217.0</td>\n",
              "      <td>0</td>\n",
              "    </tr>\n",
              "    <tr>\n",
              "      <th>285827</th>\n",
              "      <td>285828</td>\n",
              "      <td>Wanita</td>\n",
              "      <td>21.0</td>\n",
              "      <td>1.0</td>\n",
              "      <td>46.0</td>\n",
              "      <td>1.0</td>\n",
              "      <td>&lt; 1 Tahun</td>\n",
              "      <td>Tidak</td>\n",
              "      <td>44686.0</td>\n",
              "      <td>152.0</td>\n",
              "      <td>50.0</td>\n",
              "      <td>0</td>\n",
              "    </tr>\n",
              "    <tr>\n",
              "      <th>285828</th>\n",
              "      <td>285829</td>\n",
              "      <td>Wanita</td>\n",
              "      <td>23.0</td>\n",
              "      <td>1.0</td>\n",
              "      <td>50.0</td>\n",
              "      <td>1.0</td>\n",
              "      <td>&lt; 1 Tahun</td>\n",
              "      <td>Tidak</td>\n",
              "      <td>49751.0</td>\n",
              "      <td>152.0</td>\n",
              "      <td>226.0</td>\n",
              "      <td>0</td>\n",
              "    </tr>\n",
              "    <tr>\n",
              "      <th>285829</th>\n",
              "      <td>285830</td>\n",
              "      <td>Pria</td>\n",
              "      <td>68.0</td>\n",
              "      <td>1.0</td>\n",
              "      <td>7.0</td>\n",
              "      <td>1.0</td>\n",
              "      <td>1-2 Tahun</td>\n",
              "      <td>Tidak</td>\n",
              "      <td>30503.0</td>\n",
              "      <td>124.0</td>\n",
              "      <td>270.0</td>\n",
              "      <td>0</td>\n",
              "    </tr>\n",
              "    <tr>\n",
              "      <th>285830</th>\n",
              "      <td>285831</td>\n",
              "      <td>Pria</td>\n",
              "      <td>45.0</td>\n",
              "      <td>1.0</td>\n",
              "      <td>28.0</td>\n",
              "      <td>0.0</td>\n",
              "      <td>1-2 Tahun</td>\n",
              "      <td>Pernah</td>\n",
              "      <td>36480.0</td>\n",
              "      <td>26.0</td>\n",
              "      <td>44.0</td>\n",
              "      <td>0</td>\n",
              "    </tr>\n",
              "  </tbody>\n",
              "</table>\n",
              "<p>285831 rows × 12 columns</p>\n",
              "</div>"
            ],
            "text/plain": [
              "            id Jenis_Kelamin  ...  Lama_Berlangganan  Tertarik\n",
              "0            1        Wanita  ...               97.0         0\n",
              "1            2          Pria  ...              158.0         0\n",
              "2            3           NaN  ...              119.0         0\n",
              "3            4        Wanita  ...               63.0         0\n",
              "4            5          Pria  ...              194.0         0\n",
              "...        ...           ...  ...                ...       ...\n",
              "285826  285827        Wanita  ...              217.0         0\n",
              "285827  285828        Wanita  ...               50.0         0\n",
              "285828  285829        Wanita  ...              226.0         0\n",
              "285829  285830          Pria  ...              270.0         0\n",
              "285830  285831          Pria  ...               44.0         0\n",
              "\n",
              "[285831 rows x 12 columns]"
            ]
          },
          "metadata": {
            "tags": []
          },
          "execution_count": 60
        }
      ]
    },
    {
      "cell_type": "code",
      "metadata": {
        "id": "waJjph1i9_Fl",
        "colab": {
          "base_uri": "https://localhost:8080/",
          "height": 419
        },
        "outputId": "4be4a84e-8108-4ec0-95ae-0aaffa1f7a8f"
      },
      "source": [
        "df2"
      ],
      "id": "waJjph1i9_Fl",
      "execution_count": 61,
      "outputs": [
        {
          "output_type": "execute_result",
          "data": {
            "text/html": [
              "<div>\n",
              "<style scoped>\n",
              "    .dataframe tbody tr th:only-of-type {\n",
              "        vertical-align: middle;\n",
              "    }\n",
              "\n",
              "    .dataframe tbody tr th {\n",
              "        vertical-align: top;\n",
              "    }\n",
              "\n",
              "    .dataframe thead th {\n",
              "        text-align: right;\n",
              "    }\n",
              "</style>\n",
              "<table border=\"1\" class=\"dataframe\">\n",
              "  <thead>\n",
              "    <tr style=\"text-align: right;\">\n",
              "      <th></th>\n",
              "      <th>Jenis_Kelamin</th>\n",
              "      <th>Umur</th>\n",
              "      <th>SIM</th>\n",
              "      <th>Kode_Daerah</th>\n",
              "      <th>Sudah_Asuransi</th>\n",
              "      <th>Umur_Kendaraan</th>\n",
              "      <th>Kendaraan_Rusak</th>\n",
              "      <th>Premi</th>\n",
              "      <th>Kanal_Penjualan</th>\n",
              "      <th>Lama_Berlangganan</th>\n",
              "      <th>Tertarik</th>\n",
              "    </tr>\n",
              "  </thead>\n",
              "  <tbody>\n",
              "    <tr>\n",
              "      <th>0</th>\n",
              "      <td>Wanita</td>\n",
              "      <td>49</td>\n",
              "      <td>1</td>\n",
              "      <td>8</td>\n",
              "      <td>0</td>\n",
              "      <td>1-2 Tahun</td>\n",
              "      <td>Pernah</td>\n",
              "      <td>46963</td>\n",
              "      <td>26</td>\n",
              "      <td>145</td>\n",
              "      <td>0</td>\n",
              "    </tr>\n",
              "    <tr>\n",
              "      <th>1</th>\n",
              "      <td>Pria</td>\n",
              "      <td>22</td>\n",
              "      <td>1</td>\n",
              "      <td>47</td>\n",
              "      <td>1</td>\n",
              "      <td>&lt; 1 Tahun</td>\n",
              "      <td>Tidak</td>\n",
              "      <td>39624</td>\n",
              "      <td>152</td>\n",
              "      <td>241</td>\n",
              "      <td>0</td>\n",
              "    </tr>\n",
              "    <tr>\n",
              "      <th>2</th>\n",
              "      <td>Pria</td>\n",
              "      <td>24</td>\n",
              "      <td>1</td>\n",
              "      <td>28</td>\n",
              "      <td>1</td>\n",
              "      <td>&lt; 1 Tahun</td>\n",
              "      <td>Tidak</td>\n",
              "      <td>110479</td>\n",
              "      <td>152</td>\n",
              "      <td>62</td>\n",
              "      <td>0</td>\n",
              "    </tr>\n",
              "    <tr>\n",
              "      <th>3</th>\n",
              "      <td>Pria</td>\n",
              "      <td>46</td>\n",
              "      <td>1</td>\n",
              "      <td>8</td>\n",
              "      <td>1</td>\n",
              "      <td>1-2 Tahun</td>\n",
              "      <td>Tidak</td>\n",
              "      <td>36266</td>\n",
              "      <td>124</td>\n",
              "      <td>34</td>\n",
              "      <td>0</td>\n",
              "    </tr>\n",
              "    <tr>\n",
              "      <th>4</th>\n",
              "      <td>Pria</td>\n",
              "      <td>35</td>\n",
              "      <td>1</td>\n",
              "      <td>23</td>\n",
              "      <td>0</td>\n",
              "      <td>1-2 Tahun</td>\n",
              "      <td>Pernah</td>\n",
              "      <td>26963</td>\n",
              "      <td>152</td>\n",
              "      <td>229</td>\n",
              "      <td>0</td>\n",
              "    </tr>\n",
              "    <tr>\n",
              "      <th>...</th>\n",
              "      <td>...</td>\n",
              "      <td>...</td>\n",
              "      <td>...</td>\n",
              "      <td>...</td>\n",
              "      <td>...</td>\n",
              "      <td>...</td>\n",
              "      <td>...</td>\n",
              "      <td>...</td>\n",
              "      <td>...</td>\n",
              "      <td>...</td>\n",
              "      <td>...</td>\n",
              "    </tr>\n",
              "    <tr>\n",
              "      <th>47634</th>\n",
              "      <td>Pria</td>\n",
              "      <td>61</td>\n",
              "      <td>1</td>\n",
              "      <td>46</td>\n",
              "      <td>0</td>\n",
              "      <td>&gt; 2 Tahun</td>\n",
              "      <td>Pernah</td>\n",
              "      <td>31039</td>\n",
              "      <td>124</td>\n",
              "      <td>67</td>\n",
              "      <td>0</td>\n",
              "    </tr>\n",
              "    <tr>\n",
              "      <th>47635</th>\n",
              "      <td>Pria</td>\n",
              "      <td>41</td>\n",
              "      <td>1</td>\n",
              "      <td>15</td>\n",
              "      <td>0</td>\n",
              "      <td>1-2 Tahun</td>\n",
              "      <td>Pernah</td>\n",
              "      <td>2630</td>\n",
              "      <td>157</td>\n",
              "      <td>232</td>\n",
              "      <td>0</td>\n",
              "    </tr>\n",
              "    <tr>\n",
              "      <th>47636</th>\n",
              "      <td>Pria</td>\n",
              "      <td>24</td>\n",
              "      <td>1</td>\n",
              "      <td>29</td>\n",
              "      <td>1</td>\n",
              "      <td>&lt; 1 Tahun</td>\n",
              "      <td>Tidak</td>\n",
              "      <td>33101</td>\n",
              "      <td>152</td>\n",
              "      <td>211</td>\n",
              "      <td>0</td>\n",
              "    </tr>\n",
              "    <tr>\n",
              "      <th>47637</th>\n",
              "      <td>Pria</td>\n",
              "      <td>59</td>\n",
              "      <td>1</td>\n",
              "      <td>30</td>\n",
              "      <td>0</td>\n",
              "      <td>1-2 Tahun</td>\n",
              "      <td>Pernah</td>\n",
              "      <td>37788</td>\n",
              "      <td>26</td>\n",
              "      <td>239</td>\n",
              "      <td>1</td>\n",
              "    </tr>\n",
              "    <tr>\n",
              "      <th>47638</th>\n",
              "      <td>Pria</td>\n",
              "      <td>52</td>\n",
              "      <td>1</td>\n",
              "      <td>31</td>\n",
              "      <td>0</td>\n",
              "      <td>1-2 Tahun</td>\n",
              "      <td>Tidak</td>\n",
              "      <td>2630</td>\n",
              "      <td>124</td>\n",
              "      <td>170</td>\n",
              "      <td>0</td>\n",
              "    </tr>\n",
              "  </tbody>\n",
              "</table>\n",
              "<p>47639 rows × 11 columns</p>\n",
              "</div>"
            ],
            "text/plain": [
              "      Jenis_Kelamin  Umur  SIM  ...  Kanal_Penjualan  Lama_Berlangganan Tertarik\n",
              "0            Wanita    49    1  ...               26                145        0\n",
              "1              Pria    22    1  ...              152                241        0\n",
              "2              Pria    24    1  ...              152                 62        0\n",
              "3              Pria    46    1  ...              124                 34        0\n",
              "4              Pria    35    1  ...              152                229        0\n",
              "...             ...   ...  ...  ...              ...                ...      ...\n",
              "47634          Pria    61    1  ...              124                 67        0\n",
              "47635          Pria    41    1  ...              157                232        0\n",
              "47636          Pria    24    1  ...              152                211        0\n",
              "47637          Pria    59    1  ...               26                239        1\n",
              "47638          Pria    52    1  ...              124                170        0\n",
              "\n",
              "[47639 rows x 11 columns]"
            ]
          },
          "metadata": {
            "tags": []
          },
          "execution_count": 61
        }
      ]
    },
    {
      "cell_type": "code",
      "metadata": {
        "colab": {
          "base_uri": "https://localhost:8080/",
          "height": 204
        },
        "id": "quiet-lobby",
        "scrolled": true,
        "outputId": "4fc16270-2412-4e1a-c7fc-5aa8655e9afc"
      },
      "source": [
        "\n",
        "df = df.drop(columns=['id'], axis=1) #Drop Kolom \"ID\"\n",
        "\n",
        "#Drop Missing Value\n",
        "df.dropna(inplace=True)\n",
        "\n",
        "#Encoding untuk Data Kategori\n",
        "replaces_data = {\"Kendaraan_Rusak\": {\"Pernah\": 1, \"Tidak\": 0}}\n",
        "df.replace(replaces_data, inplace=True)\n",
        "\n",
        "replaces_data = {\"Jenis_Kelamin\": {\"Pria\": 1, \"Wanita\": 0}}\n",
        "df.replace(replaces_data, inplace=True)\n",
        "\n",
        "replaces_data = {\"Umur_Kendaraan\": {\"1-2 Tahun\": 1, \"< 1 Tahun\": 0, \"> 2 Tahun\": 2}}\n",
        "df.replace(replaces_data, inplace=True)\n",
        "\n",
        "#Normalisasi\n",
        "scaler = MinMaxScaler()\n",
        "scaled_values = scaler.fit_transform(df)\n",
        "df.loc[:,:] = scaled_values\n",
        "\n",
        "df.head()"
      ],
      "id": "quiet-lobby",
      "execution_count": 62,
      "outputs": [
        {
          "output_type": "execute_result",
          "data": {
            "text/html": [
              "<div>\n",
              "<style scoped>\n",
              "    .dataframe tbody tr th:only-of-type {\n",
              "        vertical-align: middle;\n",
              "    }\n",
              "\n",
              "    .dataframe tbody tr th {\n",
              "        vertical-align: top;\n",
              "    }\n",
              "\n",
              "    .dataframe thead th {\n",
              "        text-align: right;\n",
              "    }\n",
              "</style>\n",
              "<table border=\"1\" class=\"dataframe\">\n",
              "  <thead>\n",
              "    <tr style=\"text-align: right;\">\n",
              "      <th></th>\n",
              "      <th>Jenis_Kelamin</th>\n",
              "      <th>Umur</th>\n",
              "      <th>SIM</th>\n",
              "      <th>Kode_Daerah</th>\n",
              "      <th>Sudah_Asuransi</th>\n",
              "      <th>Umur_Kendaraan</th>\n",
              "      <th>Kendaraan_Rusak</th>\n",
              "      <th>Premi</th>\n",
              "      <th>Kanal_Penjualan</th>\n",
              "      <th>Lama_Berlangganan</th>\n",
              "      <th>Tertarik</th>\n",
              "    </tr>\n",
              "  </thead>\n",
              "  <tbody>\n",
              "    <tr>\n",
              "      <th>0</th>\n",
              "      <td>0.0</td>\n",
              "      <td>0.153846</td>\n",
              "      <td>1.0</td>\n",
              "      <td>0.634615</td>\n",
              "      <td>1.0</td>\n",
              "      <td>0.0</td>\n",
              "      <td>0.0</td>\n",
              "      <td>0.047251</td>\n",
              "      <td>0.932099</td>\n",
              "      <td>0.301038</td>\n",
              "      <td>0.0</td>\n",
              "    </tr>\n",
              "    <tr>\n",
              "      <th>1</th>\n",
              "      <td>1.0</td>\n",
              "      <td>0.430769</td>\n",
              "      <td>1.0</td>\n",
              "      <td>0.750000</td>\n",
              "      <td>0.0</td>\n",
              "      <td>1.0</td>\n",
              "      <td>1.0</td>\n",
              "      <td>0.043104</td>\n",
              "      <td>0.172840</td>\n",
              "      <td>0.512111</td>\n",
              "      <td>0.0</td>\n",
              "    </tr>\n",
              "    <tr>\n",
              "      <th>3</th>\n",
              "      <td>0.0</td>\n",
              "      <td>0.584615</td>\n",
              "      <td>1.0</td>\n",
              "      <td>0.923077</td>\n",
              "      <td>0.0</td>\n",
              "      <td>0.5</td>\n",
              "      <td>0.0</td>\n",
              "      <td>0.000000</td>\n",
              "      <td>0.759259</td>\n",
              "      <td>0.183391</td>\n",
              "      <td>0.0</td>\n",
              "    </tr>\n",
              "    <tr>\n",
              "      <th>5</th>\n",
              "      <td>1.0</td>\n",
              "      <td>0.015385</td>\n",
              "      <td>1.0</td>\n",
              "      <td>0.673077</td>\n",
              "      <td>1.0</td>\n",
              "      <td>0.0</td>\n",
              "      <td>0.0</td>\n",
              "      <td>0.037402</td>\n",
              "      <td>0.932099</td>\n",
              "      <td>0.557093</td>\n",
              "      <td>0.0</td>\n",
              "    </tr>\n",
              "    <tr>\n",
              "      <th>8</th>\n",
              "      <td>0.0</td>\n",
              "      <td>0.000000</td>\n",
              "      <td>1.0</td>\n",
              "      <td>0.153846</td>\n",
              "      <td>1.0</td>\n",
              "      <td>0.0</td>\n",
              "      <td>0.0</td>\n",
              "      <td>0.052380</td>\n",
              "      <td>0.981481</td>\n",
              "      <td>0.072664</td>\n",
              "      <td>0.0</td>\n",
              "    </tr>\n",
              "  </tbody>\n",
              "</table>\n",
              "</div>"
            ],
            "text/plain": [
              "   Jenis_Kelamin      Umur  SIM  ...  Kanal_Penjualan  Lama_Berlangganan  Tertarik\n",
              "0            0.0  0.153846  1.0  ...         0.932099           0.301038       0.0\n",
              "1            1.0  0.430769  1.0  ...         0.172840           0.512111       0.0\n",
              "3            0.0  0.584615  1.0  ...         0.759259           0.183391       0.0\n",
              "5            1.0  0.015385  1.0  ...         0.932099           0.557093       0.0\n",
              "8            0.0  0.000000  1.0  ...         0.981481           0.072664       0.0\n",
              "\n",
              "[5 rows x 11 columns]"
            ]
          },
          "metadata": {
            "tags": []
          },
          "execution_count": 62
        }
      ]
    },
    {
      "cell_type": "code",
      "metadata": {
        "colab": {
          "base_uri": "https://localhost:8080/",
          "height": 419
        },
        "id": "wgh92EdP1eyn",
        "outputId": "b72fe1b1-26a9-4d1d-981c-4c75459b5d82"
      },
      "source": [
        "df"
      ],
      "id": "wgh92EdP1eyn",
      "execution_count": 63,
      "outputs": [
        {
          "output_type": "execute_result",
          "data": {
            "text/html": [
              "<div>\n",
              "<style scoped>\n",
              "    .dataframe tbody tr th:only-of-type {\n",
              "        vertical-align: middle;\n",
              "    }\n",
              "\n",
              "    .dataframe tbody tr th {\n",
              "        vertical-align: top;\n",
              "    }\n",
              "\n",
              "    .dataframe thead th {\n",
              "        text-align: right;\n",
              "    }\n",
              "</style>\n",
              "<table border=\"1\" class=\"dataframe\">\n",
              "  <thead>\n",
              "    <tr style=\"text-align: right;\">\n",
              "      <th></th>\n",
              "      <th>Jenis_Kelamin</th>\n",
              "      <th>Umur</th>\n",
              "      <th>SIM</th>\n",
              "      <th>Kode_Daerah</th>\n",
              "      <th>Sudah_Asuransi</th>\n",
              "      <th>Umur_Kendaraan</th>\n",
              "      <th>Kendaraan_Rusak</th>\n",
              "      <th>Premi</th>\n",
              "      <th>Kanal_Penjualan</th>\n",
              "      <th>Lama_Berlangganan</th>\n",
              "      <th>Tertarik</th>\n",
              "    </tr>\n",
              "  </thead>\n",
              "  <tbody>\n",
              "    <tr>\n",
              "      <th>0</th>\n",
              "      <td>0.0</td>\n",
              "      <td>0.153846</td>\n",
              "      <td>1.0</td>\n",
              "      <td>0.634615</td>\n",
              "      <td>1.0</td>\n",
              "      <td>0.0</td>\n",
              "      <td>0.0</td>\n",
              "      <td>0.047251</td>\n",
              "      <td>0.932099</td>\n",
              "      <td>0.301038</td>\n",
              "      <td>0.0</td>\n",
              "    </tr>\n",
              "    <tr>\n",
              "      <th>1</th>\n",
              "      <td>1.0</td>\n",
              "      <td>0.430769</td>\n",
              "      <td>1.0</td>\n",
              "      <td>0.750000</td>\n",
              "      <td>0.0</td>\n",
              "      <td>1.0</td>\n",
              "      <td>1.0</td>\n",
              "      <td>0.043104</td>\n",
              "      <td>0.172840</td>\n",
              "      <td>0.512111</td>\n",
              "      <td>0.0</td>\n",
              "    </tr>\n",
              "    <tr>\n",
              "      <th>3</th>\n",
              "      <td>0.0</td>\n",
              "      <td>0.584615</td>\n",
              "      <td>1.0</td>\n",
              "      <td>0.923077</td>\n",
              "      <td>0.0</td>\n",
              "      <td>0.5</td>\n",
              "      <td>0.0</td>\n",
              "      <td>0.000000</td>\n",
              "      <td>0.759259</td>\n",
              "      <td>0.183391</td>\n",
              "      <td>0.0</td>\n",
              "    </tr>\n",
              "    <tr>\n",
              "      <th>5</th>\n",
              "      <td>1.0</td>\n",
              "      <td>0.015385</td>\n",
              "      <td>1.0</td>\n",
              "      <td>0.673077</td>\n",
              "      <td>1.0</td>\n",
              "      <td>0.0</td>\n",
              "      <td>0.0</td>\n",
              "      <td>0.037402</td>\n",
              "      <td>0.932099</td>\n",
              "      <td>0.557093</td>\n",
              "      <td>0.0</td>\n",
              "    </tr>\n",
              "    <tr>\n",
              "      <th>8</th>\n",
              "      <td>0.0</td>\n",
              "      <td>0.000000</td>\n",
              "      <td>1.0</td>\n",
              "      <td>0.153846</td>\n",
              "      <td>1.0</td>\n",
              "      <td>0.0</td>\n",
              "      <td>0.0</td>\n",
              "      <td>0.052380</td>\n",
              "      <td>0.981481</td>\n",
              "      <td>0.072664</td>\n",
              "      <td>0.0</td>\n",
              "    </tr>\n",
              "    <tr>\n",
              "      <th>...</th>\n",
              "      <td>...</td>\n",
              "      <td>...</td>\n",
              "      <td>...</td>\n",
              "      <td>...</td>\n",
              "      <td>...</td>\n",
              "      <td>...</td>\n",
              "      <td>...</td>\n",
              "      <td>...</td>\n",
              "      <td>...</td>\n",
              "      <td>...</td>\n",
              "      <td>...</td>\n",
              "    </tr>\n",
              "    <tr>\n",
              "      <th>285826</th>\n",
              "      <td>0.0</td>\n",
              "      <td>0.046154</td>\n",
              "      <td>1.0</td>\n",
              "      <td>0.076923</td>\n",
              "      <td>1.0</td>\n",
              "      <td>0.0</td>\n",
              "      <td>0.0</td>\n",
              "      <td>0.043454</td>\n",
              "      <td>0.932099</td>\n",
              "      <td>0.716263</td>\n",
              "      <td>0.0</td>\n",
              "    </tr>\n",
              "    <tr>\n",
              "      <th>285827</th>\n",
              "      <td>0.0</td>\n",
              "      <td>0.015385</td>\n",
              "      <td>1.0</td>\n",
              "      <td>0.884615</td>\n",
              "      <td>1.0</td>\n",
              "      <td>0.0</td>\n",
              "      <td>0.0</td>\n",
              "      <td>0.078239</td>\n",
              "      <td>0.932099</td>\n",
              "      <td>0.138408</td>\n",
              "      <td>0.0</td>\n",
              "    </tr>\n",
              "    <tr>\n",
              "      <th>285828</th>\n",
              "      <td>0.0</td>\n",
              "      <td>0.046154</td>\n",
              "      <td>1.0</td>\n",
              "      <td>0.961538</td>\n",
              "      <td>1.0</td>\n",
              "      <td>0.0</td>\n",
              "      <td>0.0</td>\n",
              "      <td>0.087661</td>\n",
              "      <td>0.932099</td>\n",
              "      <td>0.747405</td>\n",
              "      <td>0.0</td>\n",
              "    </tr>\n",
              "    <tr>\n",
              "      <th>285829</th>\n",
              "      <td>1.0</td>\n",
              "      <td>0.738462</td>\n",
              "      <td>1.0</td>\n",
              "      <td>0.134615</td>\n",
              "      <td>1.0</td>\n",
              "      <td>0.5</td>\n",
              "      <td>0.0</td>\n",
              "      <td>0.051853</td>\n",
              "      <td>0.759259</td>\n",
              "      <td>0.899654</td>\n",
              "      <td>0.0</td>\n",
              "    </tr>\n",
              "    <tr>\n",
              "      <th>285830</th>\n",
              "      <td>1.0</td>\n",
              "      <td>0.384615</td>\n",
              "      <td>1.0</td>\n",
              "      <td>0.538462</td>\n",
              "      <td>0.0</td>\n",
              "      <td>0.5</td>\n",
              "      <td>1.0</td>\n",
              "      <td>0.062973</td>\n",
              "      <td>0.154321</td>\n",
              "      <td>0.117647</td>\n",
              "      <td>0.0</td>\n",
              "    </tr>\n",
              "  </tbody>\n",
              "</table>\n",
              "<p>171068 rows × 11 columns</p>\n",
              "</div>"
            ],
            "text/plain": [
              "        Jenis_Kelamin      Umur  ...  Lama_Berlangganan  Tertarik\n",
              "0                 0.0  0.153846  ...           0.301038       0.0\n",
              "1                 1.0  0.430769  ...           0.512111       0.0\n",
              "3                 0.0  0.584615  ...           0.183391       0.0\n",
              "5                 1.0  0.015385  ...           0.557093       0.0\n",
              "8                 0.0  0.000000  ...           0.072664       0.0\n",
              "...               ...       ...  ...                ...       ...\n",
              "285826            0.0  0.046154  ...           0.716263       0.0\n",
              "285827            0.0  0.015385  ...           0.138408       0.0\n",
              "285828            0.0  0.046154  ...           0.747405       0.0\n",
              "285829            1.0  0.738462  ...           0.899654       0.0\n",
              "285830            1.0  0.384615  ...           0.117647       0.0\n",
              "\n",
              "[171068 rows x 11 columns]"
            ]
          },
          "metadata": {
            "tags": []
          },
          "execution_count": 63
        }
      ]
    },
    {
      "cell_type": "code",
      "metadata": {
        "id": "N4hEORiPhsEP"
      },
      "source": [
        "#Pisah data dari label\n",
        "predictions = ['Jenis_Kelamin' , 'Umur' , 'SIM' , 'Kode_Daerah', 'Sudah_Asuransi', 'Umur_Kendaraan', \n",
        "               'Kendaraan_Rusak', 'Premi', 'Kanal_Penjualan', 'Lama_Berlangganan']\n",
        "\n",
        "x_train = df[predictions]\n",
        "y_train = df['Tertarik']"
      ],
      "id": "N4hEORiPhsEP",
      "execution_count": 64,
      "outputs": []
    },
    {
      "cell_type": "code",
      "metadata": {
        "colab": {
          "base_uri": "https://localhost:8080/",
          "height": 204
        },
        "id": "4b034098",
        "outputId": "dd88aef7-5ef6-4236-fa05-276df17a6fef"
      },
      "source": [
        "#Drop Missing Value\n",
        "df2.dropna(inplace=True)\n",
        "\n",
        "#Encoding untuk Data Kategori\n",
        "replaces_data = {\"Kendaraan_Rusak\": {\"Pernah\": 1, \"Tidak\": 0}}\n",
        "df2.replace(replaces_data, inplace=True)\n",
        "\n",
        "replaces_data = {\"Jenis_Kelamin\": {\"Pria\": 1, \"Wanita\": 0}}\n",
        "df2.replace(replaces_data, inplace=True)\n",
        "\n",
        "replaces_data = {\"Umur_Kendaraan\": {\"1-2 Tahun\": 1, \"< 1 Tahun\": 0, \"> 2 Tahun\": 2}}\n",
        "df2.replace(replaces_data, inplace=True)\n",
        "\n",
        "#Normalisasi\n",
        "scaler = MinMaxScaler()\n",
        "scaled_values = scaler.fit_transform(df2)\n",
        "df2.loc[:,:] = scaled_values\n",
        "\n",
        "df2.head()"
      ],
      "id": "4b034098",
      "execution_count": 65,
      "outputs": [
        {
          "output_type": "execute_result",
          "data": {
            "text/html": [
              "<div>\n",
              "<style scoped>\n",
              "    .dataframe tbody tr th:only-of-type {\n",
              "        vertical-align: middle;\n",
              "    }\n",
              "\n",
              "    .dataframe tbody tr th {\n",
              "        vertical-align: top;\n",
              "    }\n",
              "\n",
              "    .dataframe thead th {\n",
              "        text-align: right;\n",
              "    }\n",
              "</style>\n",
              "<table border=\"1\" class=\"dataframe\">\n",
              "  <thead>\n",
              "    <tr style=\"text-align: right;\">\n",
              "      <th></th>\n",
              "      <th>Jenis_Kelamin</th>\n",
              "      <th>Umur</th>\n",
              "      <th>SIM</th>\n",
              "      <th>Kode_Daerah</th>\n",
              "      <th>Sudah_Asuransi</th>\n",
              "      <th>Umur_Kendaraan</th>\n",
              "      <th>Kendaraan_Rusak</th>\n",
              "      <th>Premi</th>\n",
              "      <th>Kanal_Penjualan</th>\n",
              "      <th>Lama_Berlangganan</th>\n",
              "      <th>Tertarik</th>\n",
              "    </tr>\n",
              "  </thead>\n",
              "  <tbody>\n",
              "    <tr>\n",
              "      <th>0</th>\n",
              "      <td>0.0</td>\n",
              "      <td>0.446154</td>\n",
              "      <td>1.0</td>\n",
              "      <td>0.153846</td>\n",
              "      <td>0.0</td>\n",
              "      <td>0.5</td>\n",
              "      <td>1.0</td>\n",
              "      <td>0.082475</td>\n",
              "      <td>0.154321</td>\n",
              "      <td>0.467128</td>\n",
              "      <td>0.0</td>\n",
              "    </tr>\n",
              "    <tr>\n",
              "      <th>1</th>\n",
              "      <td>1.0</td>\n",
              "      <td>0.030769</td>\n",
              "      <td>1.0</td>\n",
              "      <td>0.903846</td>\n",
              "      <td>1.0</td>\n",
              "      <td>0.0</td>\n",
              "      <td>0.0</td>\n",
              "      <td>0.068822</td>\n",
              "      <td>0.932099</td>\n",
              "      <td>0.799308</td>\n",
              "      <td>0.0</td>\n",
              "    </tr>\n",
              "    <tr>\n",
              "      <th>2</th>\n",
              "      <td>1.0</td>\n",
              "      <td>0.061538</td>\n",
              "      <td>1.0</td>\n",
              "      <td>0.538462</td>\n",
              "      <td>1.0</td>\n",
              "      <td>0.0</td>\n",
              "      <td>0.0</td>\n",
              "      <td>0.200636</td>\n",
              "      <td>0.932099</td>\n",
              "      <td>0.179931</td>\n",
              "      <td>0.0</td>\n",
              "    </tr>\n",
              "    <tr>\n",
              "      <th>3</th>\n",
              "      <td>1.0</td>\n",
              "      <td>0.400000</td>\n",
              "      <td>1.0</td>\n",
              "      <td>0.153846</td>\n",
              "      <td>1.0</td>\n",
              "      <td>0.5</td>\n",
              "      <td>0.0</td>\n",
              "      <td>0.062575</td>\n",
              "      <td>0.759259</td>\n",
              "      <td>0.083045</td>\n",
              "      <td>0.0</td>\n",
              "    </tr>\n",
              "    <tr>\n",
              "      <th>4</th>\n",
              "      <td>1.0</td>\n",
              "      <td>0.230769</td>\n",
              "      <td>1.0</td>\n",
              "      <td>0.442308</td>\n",
              "      <td>0.0</td>\n",
              "      <td>0.5</td>\n",
              "      <td>1.0</td>\n",
              "      <td>0.045268</td>\n",
              "      <td>0.932099</td>\n",
              "      <td>0.757785</td>\n",
              "      <td>0.0</td>\n",
              "    </tr>\n",
              "  </tbody>\n",
              "</table>\n",
              "</div>"
            ],
            "text/plain": [
              "   Jenis_Kelamin      Umur  SIM  ...  Kanal_Penjualan  Lama_Berlangganan  Tertarik\n",
              "0            0.0  0.446154  1.0  ...         0.154321           0.467128       0.0\n",
              "1            1.0  0.030769  1.0  ...         0.932099           0.799308       0.0\n",
              "2            1.0  0.061538  1.0  ...         0.932099           0.179931       0.0\n",
              "3            1.0  0.400000  1.0  ...         0.759259           0.083045       0.0\n",
              "4            1.0  0.230769  1.0  ...         0.932099           0.757785       0.0\n",
              "\n",
              "[5 rows x 11 columns]"
            ]
          },
          "metadata": {
            "tags": []
          },
          "execution_count": 65
        }
      ]
    },
    {
      "cell_type": "code",
      "metadata": {
        "colab": {
          "base_uri": "https://localhost:8080/",
          "height": 419
        },
        "id": "rdUUoGPj1X9b",
        "outputId": "c6cb0d3c-d29a-4a5b-a005-1f9f746b5b94"
      },
      "source": [
        "df2"
      ],
      "id": "rdUUoGPj1X9b",
      "execution_count": 66,
      "outputs": [
        {
          "output_type": "execute_result",
          "data": {
            "text/html": [
              "<div>\n",
              "<style scoped>\n",
              "    .dataframe tbody tr th:only-of-type {\n",
              "        vertical-align: middle;\n",
              "    }\n",
              "\n",
              "    .dataframe tbody tr th {\n",
              "        vertical-align: top;\n",
              "    }\n",
              "\n",
              "    .dataframe thead th {\n",
              "        text-align: right;\n",
              "    }\n",
              "</style>\n",
              "<table border=\"1\" class=\"dataframe\">\n",
              "  <thead>\n",
              "    <tr style=\"text-align: right;\">\n",
              "      <th></th>\n",
              "      <th>Jenis_Kelamin</th>\n",
              "      <th>Umur</th>\n",
              "      <th>SIM</th>\n",
              "      <th>Kode_Daerah</th>\n",
              "      <th>Sudah_Asuransi</th>\n",
              "      <th>Umur_Kendaraan</th>\n",
              "      <th>Kendaraan_Rusak</th>\n",
              "      <th>Premi</th>\n",
              "      <th>Kanal_Penjualan</th>\n",
              "      <th>Lama_Berlangganan</th>\n",
              "      <th>Tertarik</th>\n",
              "    </tr>\n",
              "  </thead>\n",
              "  <tbody>\n",
              "    <tr>\n",
              "      <th>0</th>\n",
              "      <td>0.0</td>\n",
              "      <td>0.446154</td>\n",
              "      <td>1.0</td>\n",
              "      <td>0.153846</td>\n",
              "      <td>0.0</td>\n",
              "      <td>0.5</td>\n",
              "      <td>1.0</td>\n",
              "      <td>0.082475</td>\n",
              "      <td>0.154321</td>\n",
              "      <td>0.467128</td>\n",
              "      <td>0.0</td>\n",
              "    </tr>\n",
              "    <tr>\n",
              "      <th>1</th>\n",
              "      <td>1.0</td>\n",
              "      <td>0.030769</td>\n",
              "      <td>1.0</td>\n",
              "      <td>0.903846</td>\n",
              "      <td>1.0</td>\n",
              "      <td>0.0</td>\n",
              "      <td>0.0</td>\n",
              "      <td>0.068822</td>\n",
              "      <td>0.932099</td>\n",
              "      <td>0.799308</td>\n",
              "      <td>0.0</td>\n",
              "    </tr>\n",
              "    <tr>\n",
              "      <th>2</th>\n",
              "      <td>1.0</td>\n",
              "      <td>0.061538</td>\n",
              "      <td>1.0</td>\n",
              "      <td>0.538462</td>\n",
              "      <td>1.0</td>\n",
              "      <td>0.0</td>\n",
              "      <td>0.0</td>\n",
              "      <td>0.200636</td>\n",
              "      <td>0.932099</td>\n",
              "      <td>0.179931</td>\n",
              "      <td>0.0</td>\n",
              "    </tr>\n",
              "    <tr>\n",
              "      <th>3</th>\n",
              "      <td>1.0</td>\n",
              "      <td>0.400000</td>\n",
              "      <td>1.0</td>\n",
              "      <td>0.153846</td>\n",
              "      <td>1.0</td>\n",
              "      <td>0.5</td>\n",
              "      <td>0.0</td>\n",
              "      <td>0.062575</td>\n",
              "      <td>0.759259</td>\n",
              "      <td>0.083045</td>\n",
              "      <td>0.0</td>\n",
              "    </tr>\n",
              "    <tr>\n",
              "      <th>4</th>\n",
              "      <td>1.0</td>\n",
              "      <td>0.230769</td>\n",
              "      <td>1.0</td>\n",
              "      <td>0.442308</td>\n",
              "      <td>0.0</td>\n",
              "      <td>0.5</td>\n",
              "      <td>1.0</td>\n",
              "      <td>0.045268</td>\n",
              "      <td>0.932099</td>\n",
              "      <td>0.757785</td>\n",
              "      <td>0.0</td>\n",
              "    </tr>\n",
              "    <tr>\n",
              "      <th>...</th>\n",
              "      <td>...</td>\n",
              "      <td>...</td>\n",
              "      <td>...</td>\n",
              "      <td>...</td>\n",
              "      <td>...</td>\n",
              "      <td>...</td>\n",
              "      <td>...</td>\n",
              "      <td>...</td>\n",
              "      <td>...</td>\n",
              "      <td>...</td>\n",
              "      <td>...</td>\n",
              "    </tr>\n",
              "    <tr>\n",
              "      <th>47634</th>\n",
              "      <td>1.0</td>\n",
              "      <td>0.630769</td>\n",
              "      <td>1.0</td>\n",
              "      <td>0.884615</td>\n",
              "      <td>0.0</td>\n",
              "      <td>1.0</td>\n",
              "      <td>1.0</td>\n",
              "      <td>0.052851</td>\n",
              "      <td>0.759259</td>\n",
              "      <td>0.197232</td>\n",
              "      <td>0.0</td>\n",
              "    </tr>\n",
              "    <tr>\n",
              "      <th>47635</th>\n",
              "      <td>1.0</td>\n",
              "      <td>0.323077</td>\n",
              "      <td>1.0</td>\n",
              "      <td>0.288462</td>\n",
              "      <td>0.0</td>\n",
              "      <td>0.5</td>\n",
              "      <td>1.0</td>\n",
              "      <td>0.000000</td>\n",
              "      <td>0.962963</td>\n",
              "      <td>0.768166</td>\n",
              "      <td>0.0</td>\n",
              "    </tr>\n",
              "    <tr>\n",
              "      <th>47636</th>\n",
              "      <td>1.0</td>\n",
              "      <td>0.061538</td>\n",
              "      <td>1.0</td>\n",
              "      <td>0.557692</td>\n",
              "      <td>1.0</td>\n",
              "      <td>0.0</td>\n",
              "      <td>0.0</td>\n",
              "      <td>0.056687</td>\n",
              "      <td>0.932099</td>\n",
              "      <td>0.695502</td>\n",
              "      <td>0.0</td>\n",
              "    </tr>\n",
              "    <tr>\n",
              "      <th>47637</th>\n",
              "      <td>1.0</td>\n",
              "      <td>0.600000</td>\n",
              "      <td>1.0</td>\n",
              "      <td>0.576923</td>\n",
              "      <td>0.0</td>\n",
              "      <td>0.5</td>\n",
              "      <td>1.0</td>\n",
              "      <td>0.065406</td>\n",
              "      <td>0.154321</td>\n",
              "      <td>0.792388</td>\n",
              "      <td>1.0</td>\n",
              "    </tr>\n",
              "    <tr>\n",
              "      <th>47638</th>\n",
              "      <td>1.0</td>\n",
              "      <td>0.492308</td>\n",
              "      <td>1.0</td>\n",
              "      <td>0.596154</td>\n",
              "      <td>0.0</td>\n",
              "      <td>0.5</td>\n",
              "      <td>0.0</td>\n",
              "      <td>0.000000</td>\n",
              "      <td>0.759259</td>\n",
              "      <td>0.553633</td>\n",
              "      <td>0.0</td>\n",
              "    </tr>\n",
              "  </tbody>\n",
              "</table>\n",
              "<p>47639 rows × 11 columns</p>\n",
              "</div>"
            ],
            "text/plain": [
              "       Jenis_Kelamin      Umur  ...  Lama_Berlangganan  Tertarik\n",
              "0                0.0  0.446154  ...           0.467128       0.0\n",
              "1                1.0  0.030769  ...           0.799308       0.0\n",
              "2                1.0  0.061538  ...           0.179931       0.0\n",
              "3                1.0  0.400000  ...           0.083045       0.0\n",
              "4                1.0  0.230769  ...           0.757785       0.0\n",
              "...              ...       ...  ...                ...       ...\n",
              "47634            1.0  0.630769  ...           0.197232       0.0\n",
              "47635            1.0  0.323077  ...           0.768166       0.0\n",
              "47636            1.0  0.061538  ...           0.695502       0.0\n",
              "47637            1.0  0.600000  ...           0.792388       1.0\n",
              "47638            1.0  0.492308  ...           0.553633       0.0\n",
              "\n",
              "[47639 rows x 11 columns]"
            ]
          },
          "metadata": {
            "tags": []
          },
          "execution_count": 66
        }
      ]
    },
    {
      "cell_type": "code",
      "metadata": {
        "id": "zHBMvZZetr3I"
      },
      "source": [
        "#Pisah data dari label\n",
        "prediksi = ['Jenis_Kelamin' , 'Umur' , 'SIM' , 'Kode_Daerah', 'Sudah_Asuransi', 'Umur_Kendaraan', \n",
        "               'Kendaraan_Rusak', 'Premi', 'Kanal_Penjualan', 'Lama_Berlangganan']\n",
        "\n",
        "x_test = df2[prediksi]\n",
        "y_test = df2['Tertarik']"
      ],
      "id": "zHBMvZZetr3I",
      "execution_count": 67,
      "outputs": []
    },
    {
      "cell_type": "markdown",
      "metadata": {
        "id": "norman-annex"
      },
      "source": [
        "## 3. Pemodelan"
      ],
      "id": "norman-annex"
    },
    {
      "cell_type": "markdown",
      "metadata": {
        "id": "QDn-C466_eQq"
      },
      "source": [
        "Model menggunakan Logistic Regression"
      ],
      "id": "QDn-C466_eQq"
    },
    {
      "cell_type": "code",
      "metadata": {
        "colab": {
          "base_uri": "https://localhost:8080/"
        },
        "id": "WDMEdUfKcyWB",
        "outputId": "8c304005-a0b5-4b66-8f44-c6e16b8a8064"
      },
      "source": [
        "model = LogisticRegression()\n",
        "model.fit(x_train, y_train)"
      ],
      "id": "WDMEdUfKcyWB",
      "execution_count": 68,
      "outputs": [
        {
          "output_type": "execute_result",
          "data": {
            "text/plain": [
              "LogisticRegression(C=1.0, class_weight=None, dual=False, fit_intercept=True,\n",
              "                   intercept_scaling=1, l1_ratio=None, max_iter=100,\n",
              "                   multi_class='auto', n_jobs=None, penalty='l2',\n",
              "                   random_state=None, solver='lbfgs', tol=0.0001, verbose=0,\n",
              "                   warm_start=False)"
            ]
          },
          "metadata": {
            "tags": []
          },
          "execution_count": 68
        }
      ]
    },
    {
      "cell_type": "markdown",
      "metadata": {
        "id": "10cdf080"
      },
      "source": [
        "## 4. Evaluasi"
      ],
      "id": "10cdf080"
    },
    {
      "cell_type": "code",
      "metadata": {
        "colab": {
          "base_uri": "https://localhost:8080/"
        },
        "id": "HdyNlZS5fLAX",
        "outputId": "0b5f1a21-926c-4312-aca8-cd4e5da006e8"
      },
      "source": [
        "#Akurasi\n",
        "print(\"Score : \",model.score(x_test, y_test))"
      ],
      "id": "HdyNlZS5fLAX",
      "execution_count": 69,
      "outputs": [
        {
          "output_type": "stream",
          "text": [
            "Score :  0.8765717164508071\n"
          ],
          "name": "stdout"
        }
      ]
    },
    {
      "cell_type": "code",
      "metadata": {
        "colab": {
          "base_uri": "https://localhost:8080/"
        },
        "id": "VQbgvMeulrVv",
        "outputId": "d6dcc3d6-7902-4f66-e01d-3138f79b0f88"
      },
      "source": [
        "#5 Cross Fold Falidation\n",
        "score =  cross_val_score(model, x_test, y_test, cv=5)\n",
        "print(\"CROSS VALIDATION SCORE : \",statistics.mean(score))"
      ],
      "id": "VQbgvMeulrVv",
      "execution_count": 70,
      "outputs": [
        {
          "output_type": "stream",
          "text": [
            "CROSS VALIDATION SCORE :  0.8768655957433101\n"
          ],
          "name": "stdout"
        }
      ]
    },
    {
      "cell_type": "code",
      "metadata": {
        "colab": {
          "base_uri": "https://localhost:8080/"
        },
        "id": "LO_Jd2qorLK8",
        "outputId": "586969df-8cde-4f04-c302-38cedba55b68"
      },
      "source": [
        "#Classification Report\n",
        "y_pred = model.predict(x_test)\n",
        "classes = ['Tidak Tertarik', 'Tertarik']\n",
        "print(classification_report(y_test, y_pred, target_names=classes))"
      ],
      "id": "LO_Jd2qorLK8",
      "execution_count": 71,
      "outputs": [
        {
          "output_type": "stream",
          "text": [
            "                precision    recall  f1-score   support\n",
            "\n",
            "Tidak Tertarik       0.88      1.00      0.93     41778\n",
            "      Tertarik       0.34      0.00      0.01      5861\n",
            "\n",
            "      accuracy                           0.88     47639\n",
            "     macro avg       0.61      0.50      0.47     47639\n",
            "  weighted avg       0.81      0.88      0.82     47639\n",
            "\n"
          ],
          "name": "stdout"
        }
      ]
    },
    {
      "cell_type": "markdown",
      "metadata": {
        "id": "cAuoEu86tuQ9"
      },
      "source": [
        "## 5. Eksperimen"
      ],
      "id": "cAuoEu86tuQ9"
    },
    {
      "cell_type": "markdown",
      "metadata": {
        "id": "c9vYcYb37Lfx"
      },
      "source": [
        "Eksperimen melakukan seleksi menggunakan koefisien dan RFE"
      ],
      "id": "c9vYcYb37Lfx"
    },
    {
      "cell_type": "markdown",
      "metadata": {
        "id": "cIvlbXrZGWb9"
      },
      "source": [
        "Feature Selection With Coefficien"
      ],
      "id": "cIvlbXrZGWb9"
    },
    {
      "cell_type": "code",
      "metadata": {
        "colab": {
          "base_uri": "https://localhost:8080/"
        },
        "id": "vX7YkuOgm7Mh",
        "outputId": "365ce4db-3fb5-4a5a-98b1-068af9a3683a"
      },
      "source": [
        "print(model.coef_)"
      ],
      "id": "vX7YkuOgm7Mh",
      "execution_count": 72,
      "outputs": [
        {
          "output_type": "stream",
          "text": [
            "[[ 1.16909891e-01 -1.39071127e+00  1.03405019e+00 -6.03060907e-04\n",
            "  -3.95170995e+00  1.41387307e+00  2.03078433e+00  7.75667730e-01\n",
            "  -5.04151174e-01  3.46002049e-02]]\n"
          ],
          "name": "stdout"
        }
      ]
    },
    {
      "cell_type": "code",
      "metadata": {
        "colab": {
          "base_uri": "https://localhost:8080/"
        },
        "id": "JrtkKm8-EcmR",
        "outputId": "c77a0084-b8db-4ab4-a0bc-3d9578187db2"
      },
      "source": [
        "model.coef_ > 1"
      ],
      "id": "JrtkKm8-EcmR",
      "execution_count": 73,
      "outputs": [
        {
          "output_type": "execute_result",
          "data": {
            "text/plain": [
              "array([[False, False,  True, False, False,  True,  True, False, False,\n",
              "        False]])"
            ]
          },
          "metadata": {
            "tags": []
          },
          "execution_count": 73
        }
      ]
    },
    {
      "cell_type": "code",
      "metadata": {
        "id": "-bu7KDP0FFXd"
      },
      "source": [
        "#Pisah data dari label\n",
        "predictions = ['SIM' , 'Umur_Kendaraan', 'Kendaraan_Rusak']\n",
        "\n",
        "x2_train = df[predictions]\n",
        "y2_train = df['Tertarik']"
      ],
      "id": "-bu7KDP0FFXd",
      "execution_count": 74,
      "outputs": []
    },
    {
      "cell_type": "code",
      "metadata": {
        "id": "xSekdgocHymq"
      },
      "source": [
        "#Pisah data dari label\n",
        "prediksi = ['SIM' , 'Umur_Kendaraan', 'Kendaraan_Rusak']\n",
        "\n",
        "x2_test = df2[prediksi]\n",
        "y2_test = df2['Tertarik']"
      ],
      "id": "xSekdgocHymq",
      "execution_count": 75,
      "outputs": []
    },
    {
      "cell_type": "code",
      "metadata": {
        "colab": {
          "base_uri": "https://localhost:8080/"
        },
        "id": "4xZ2rqfDH7Ft",
        "outputId": "4fc95799-f87a-4a9f-9898-50c19692411c"
      },
      "source": [
        "model_coef = LogisticRegression()\n",
        "model_coef.fit(x2_train, y2_train)"
      ],
      "id": "4xZ2rqfDH7Ft",
      "execution_count": 76,
      "outputs": [
        {
          "output_type": "execute_result",
          "data": {
            "text/plain": [
              "LogisticRegression(C=1.0, class_weight=None, dual=False, fit_intercept=True,\n",
              "                   intercept_scaling=1, l1_ratio=None, max_iter=100,\n",
              "                   multi_class='auto', n_jobs=None, penalty='l2',\n",
              "                   random_state=None, solver='lbfgs', tol=0.0001, verbose=0,\n",
              "                   warm_start=False)"
            ]
          },
          "metadata": {
            "tags": []
          },
          "execution_count": 76
        }
      ]
    },
    {
      "cell_type": "code",
      "metadata": {
        "colab": {
          "base_uri": "https://localhost:8080/"
        },
        "id": "LkA8n5kWIEms",
        "outputId": "3519eb57-21be-4685-b2aa-f14ebf08c26e"
      },
      "source": [
        "#Akurasi\n",
        "print(\"Score : \",model_coef.score(x2_test, y2_test))"
      ],
      "id": "LkA8n5kWIEms",
      "execution_count": 77,
      "outputs": [
        {
          "output_type": "stream",
          "text": [
            "Score :  0.8769705493398267\n"
          ],
          "name": "stdout"
        }
      ]
    },
    {
      "cell_type": "code",
      "metadata": {
        "colab": {
          "base_uri": "https://localhost:8080/"
        },
        "id": "XleIN1F8IJzi",
        "outputId": "1317ef77-ecde-4bcf-b32e-746c069580b7"
      },
      "source": [
        "#5 Cross Vold Falidation\n",
        "score2 =  cross_val_score(model_coef, x2_test, y2_test, cv=5)\n",
        "print(\"CROSS VALIDATION SCORE : \",statistics.mean(score2))"
      ],
      "id": "XleIN1F8IJzi",
      "execution_count": 78,
      "outputs": [
        {
          "output_type": "stream",
          "text": [
            "CROSS VALIDATION SCORE :  0.8769705495636292\n"
          ],
          "name": "stdout"
        }
      ]
    },
    {
      "cell_type": "code",
      "metadata": {
        "colab": {
          "base_uri": "https://localhost:8080/"
        },
        "id": "Fv3V5lXdIMQo",
        "outputId": "188eba98-734a-4b1c-d8f1-dea8f47a9d23"
      },
      "source": [
        "#Classification Report\n",
        "y2_pred = model_coef.predict(x2_test)\n",
        "classes2 = ['Tidak Tertarik', 'Tertarik']\n",
        "print(classification_report(y2_test, y2_pred, target_names=classes2))"
      ],
      "id": "Fv3V5lXdIMQo",
      "execution_count": 79,
      "outputs": [
        {
          "output_type": "stream",
          "text": [
            "                precision    recall  f1-score   support\n",
            "\n",
            "Tidak Tertarik       0.88      1.00      0.93     41778\n",
            "      Tertarik       0.00      0.00      0.00      5861\n",
            "\n",
            "      accuracy                           0.88     47639\n",
            "     macro avg       0.44      0.50      0.47     47639\n",
            "  weighted avg       0.77      0.88      0.82     47639\n",
            "\n"
          ],
          "name": "stdout"
        },
        {
          "output_type": "stream",
          "text": [
            "/usr/local/lib/python3.7/dist-packages/sklearn/metrics/_classification.py:1272: UndefinedMetricWarning: Precision and F-score are ill-defined and being set to 0.0 in labels with no predicted samples. Use `zero_division` parameter to control this behavior.\n",
            "  _warn_prf(average, modifier, msg_start, len(result))\n"
          ],
          "name": "stderr"
        }
      ]
    },
    {
      "cell_type": "markdown",
      "metadata": {
        "id": "0oA6hd67KFAd"
      },
      "source": [
        "Feature Selection With RFE"
      ],
      "id": "0oA6hd67KFAd"
    },
    {
      "cell_type": "code",
      "metadata": {
        "id": "lg5lD7nAKIQs"
      },
      "source": [
        "from sklearn.feature_selection import RFE\n",
        "predictors = x_train\n",
        "selector = RFE(model, 1)\n",
        "selector = selector.fit(predictors, y_train)"
      ],
      "id": "lg5lD7nAKIQs",
      "execution_count": 80,
      "outputs": []
    },
    {
      "cell_type": "code",
      "metadata": {
        "colab": {
          "base_uri": "https://localhost:8080/"
        },
        "id": "xBTtDo0yKojM",
        "outputId": "454e87c1-89fe-4d30-a5dc-c4edbd2a69a4"
      },
      "source": [
        "order = selector.ranking_\n",
        "order"
      ],
      "id": "xBTtDo0yKojM",
      "execution_count": 81,
      "outputs": [
        {
          "output_type": "execute_result",
          "data": {
            "text/plain": [
              "array([ 8,  5,  6, 10,  1,  4,  2,  3,  7,  9])"
            ]
          },
          "metadata": {
            "tags": []
          },
          "execution_count": 81
        }
      ]
    },
    {
      "cell_type": "code",
      "metadata": {
        "colab": {
          "base_uri": "https://localhost:8080/"
        },
        "id": "iwkRSkWdKyjU",
        "outputId": "5964f054-02da-4968-c1d1-dd697a76318f"
      },
      "source": [
        "fitur_ranks = []\n",
        "for i in order:\n",
        "    fitur_ranks.append(f\"{i}. {df.columns[i]}\")\n",
        "\n",
        "fitur_ranks"
      ],
      "id": "iwkRSkWdKyjU",
      "execution_count": 82,
      "outputs": [
        {
          "output_type": "execute_result",
          "data": {
            "text/plain": [
              "['8. Kanal_Penjualan',\n",
              " '5. Umur_Kendaraan',\n",
              " '6. Kendaraan_Rusak',\n",
              " '10. Tertarik',\n",
              " '1. Umur',\n",
              " '4. Sudah_Asuransi',\n",
              " '2. SIM',\n",
              " '3. Kode_Daerah',\n",
              " '7. Premi',\n",
              " '9. Lama_Berlangganan']"
            ]
          },
          "metadata": {
            "tags": []
          },
          "execution_count": 82
        }
      ]
    },
    {
      "cell_type": "code",
      "metadata": {
        "id": "wqY3F0mBLjh6"
      },
      "source": [
        "#Pisah data dari label, kita ambil 5 terbaik\n",
        "fitur = ['Umur' , 'SIM', 'Kode_Daerah', 'Sudah_Asuransi', 'Umur_Kendaraan']\n",
        "\n",
        "x3_train = df[fitur]\n",
        "y3_train = df['Tertarik']\n",
        "x3_test = df2[fitur]\n",
        "y3_test = df2['Tertarik']"
      ],
      "id": "wqY3F0mBLjh6",
      "execution_count": 83,
      "outputs": []
    },
    {
      "cell_type": "code",
      "metadata": {
        "colab": {
          "base_uri": "https://localhost:8080/"
        },
        "id": "_UFUZe3SMNoC",
        "outputId": "c74df5ec-2a2b-4fda-bc0f-29e9fd49f374"
      },
      "source": [
        "model_rfe = LogisticRegression()\n",
        "model_rfe.fit(x3_train, y3_train)"
      ],
      "id": "_UFUZe3SMNoC",
      "execution_count": 84,
      "outputs": [
        {
          "output_type": "execute_result",
          "data": {
            "text/plain": [
              "LogisticRegression(C=1.0, class_weight=None, dual=False, fit_intercept=True,\n",
              "                   intercept_scaling=1, l1_ratio=None, max_iter=100,\n",
              "                   multi_class='auto', n_jobs=None, penalty='l2',\n",
              "                   random_state=None, solver='lbfgs', tol=0.0001, verbose=0,\n",
              "                   warm_start=False)"
            ]
          },
          "metadata": {
            "tags": []
          },
          "execution_count": 84
        }
      ]
    },
    {
      "cell_type": "code",
      "metadata": {
        "colab": {
          "base_uri": "https://localhost:8080/"
        },
        "id": "aqGD8GA8MNoF",
        "outputId": "2fd6a928-f836-444c-a647-0199192fcf9f"
      },
      "source": [
        "#Akurasi\n",
        "print(\"Score : \",model_rfe.score(x3_test, y3_test))"
      ],
      "id": "aqGD8GA8MNoF",
      "execution_count": 85,
      "outputs": [
        {
          "output_type": "stream",
          "text": [
            "Score :  0.8768446021117152\n"
          ],
          "name": "stdout"
        }
      ]
    },
    {
      "cell_type": "code",
      "metadata": {
        "colab": {
          "base_uri": "https://localhost:8080/"
        },
        "id": "Y0bEZUhnMNoH",
        "outputId": "a7a97f02-d2aa-42aa-a6c6-d38b6606d693"
      },
      "source": [
        "#5 Cross Vold Falidation\n",
        "score3 =  cross_val_score(model_rfe, x3_test, y3_test, cv=5)\n",
        "print(\"CROSS VALIDATION SCORE : \",statistics.mean(score3))"
      ],
      "id": "Y0bEZUhnMNoH",
      "execution_count": 86,
      "outputs": [
        {
          "output_type": "stream",
          "text": [
            "CROSS VALIDATION SCORE :  0.8769705495636292\n"
          ],
          "name": "stdout"
        }
      ]
    },
    {
      "cell_type": "code",
      "metadata": {
        "colab": {
          "base_uri": "https://localhost:8080/"
        },
        "id": "qzp9RpToMNoI",
        "outputId": "eb1ddaed-fa58-46ea-d872-1d298ce8a020"
      },
      "source": [
        "#Classification Report\n",
        "y3_pred = model_rfe.predict(x3_test)\n",
        "classes3 = ['Tidak Tertarik', 'Tertarik']\n",
        "print(classification_report(y3_test, y3_pred, target_names=classes3))"
      ],
      "id": "qzp9RpToMNoI",
      "execution_count": 87,
      "outputs": [
        {
          "output_type": "stream",
          "text": [
            "                precision    recall  f1-score   support\n",
            "\n",
            "Tidak Tertarik       0.88      1.00      0.93     41778\n",
            "      Tertarik       0.20      0.00      0.00      5861\n",
            "\n",
            "      accuracy                           0.88     47639\n",
            "     macro avg       0.54      0.50      0.47     47639\n",
            "  weighted avg       0.79      0.88      0.82     47639\n",
            "\n"
          ],
          "name": "stdout"
        }
      ]
    }
  ]
}